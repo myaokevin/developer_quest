{
  "nbformat": 4,
  "nbformat_minor": 0,
  "metadata": {
    "colab": {
      "provenance": [],
      "authorship_tag": "ABX9TyNT6NFw/Hvf3Vpd+jtNVuaD",
      "include_colab_link": true
    },
    "kernelspec": {
      "name": "python3",
      "display_name": "Python 3"
    },
    "language_info": {
      "name": "python"
    }
  },
  "cells": [
    {
      "cell_type": "markdown",
      "metadata": {
        "id": "view-in-github",
        "colab_type": "text"
      },
      "source": [
        "<a href=\"https://colab.research.google.com/github/myaokevin/developer_quest/blob/master/fonction_recu.ipynb\" target=\"_parent\"><img src=\"https://colab.research.google.com/assets/colab-badge.svg\" alt=\"Open In Colab\"/></a>"
      ]
    },
    {
      "cell_type": "code",
      "source": [
        "def maxLengthPathRC(mat,i,j):\n",
        "#            print('(',i,',',j,')')             \n",
        "            if (j<0 or j >= len(mat)):\n",
        "#               print('(',i,',',j,') -1e')\n",
        "               return -1e9\n",
        "            elif (i==0):\n",
        "#               print('(',i,',',j,') -el')\n",
        "               val = mat[i][j]\n",
        "               return val\n",
        "#            print('(',i,',',j,') val',mat[i][j])\n",
        "            moveUp = mat[i][j] + maxLengthPathRC(mat,i - 1,j)\n",
        "#           print('(',i,',',j,') up=', moveUp) \n",
        "            moveLeft = mat[i][j] + maxLengthPathRC(mat,i - 1,j-1)\n",
        "#            print('(',i,',',j,') left=', moveLeft) \n",
        "            moveRight = mat[i][j] + maxLengthPathRC(mat,i - 1,j+1)\n",
        "#            print('(',i,',',j,') right=', moveRight) \n",
        "#            print('max=', max(moveUp,max(moveLeft,moveRight)))\n",
        "            return max(moveUp,max(moveLeft,moveRight))\n",
        "            \n",
        "def MLP_RC(mat,N):\n",
        "  maximum= 0\n",
        "  for j in range(0,N):\n",
        "      sous_maximum = maxLengthPathRC(mat,N-1, j)\n",
        "      maximum = max(sous_maximum,maximum)\n",
        "  print('la valeur maximal est',maximum)\n"
      ],
      "metadata": {
        "id": "5lTqKMFYdzkL"
      },
      "execution_count": null,
      "outputs": []
    },
    {
      "cell_type": "code",
      "source": [
        "import numpy as np\n",
        "def maxLengthPathDP(mat,i,j, stock, pivo, tp_path):\n",
        "            if (j<0 or j >= len(mat)):\n",
        "               return -1e9\n",
        "            if (i==0):\n",
        "               val = mat[0][j]\n",
        "               return val\n",
        "            if (stock[i][j]!= -1):\n",
        "               pivo.append(\"C(\"+str(0)+\",\"+str(j)+ \")\")\n",
        "               print(pivo)\n",
        "               val = stock[i][j]\n",
        "               print(val)\n",
        "               \n",
        "               return val\n",
        "\n",
        "            moveLeft = mat[i][j] + maxLengthPathDP(mat,i - 1,j-1,stock,pivo,tp_path)\n",
        "\n",
        "            moveUp = mat[i][j] + maxLengthPathDP(mat,i - 1,j,stock,pivo,tp_path)\n",
        "           \n",
        "            moveRight = mat[i][j] + maxLengthPathDP(mat,i - 1,j+1,stock,pivo,tp_path)\n",
        "            \n",
        "            stock[i][j] = max(moveUp,max(moveLeft,moveRight))\n",
        "            pivo.append(\"C(\"+str(i)+\",\"+str(j)+ \")\")\n",
        "            tp_path[i][j] = np.array(pivo)\n",
        "            print('max',stock[i][j])\n",
        "            print('node',mat[i][j])\n",
        "            return stock[i][j]\n",
        "\n",
        "def MLP_DP(mat,N):\n",
        "  maximum= 0\n",
        "  stock = []\n",
        "  tp_path = [[0] * N] * N\n",
        "  for i in range(N):\n",
        "      stock.append([])\n",
        "      for j in range(N):\n",
        "         stock[i].append(-1) \n",
        "  \n",
        "  for j in range(0,N):\n",
        "      queue = []\n",
        "      queue2 = []\n",
        "      sous_max = maxLengthPathDP(mat,N-1, j, stock, queue,tp_path)\n",
        "      print('sm',sous_max)\n",
        "      print(stock)\n",
        "      if(maximum < max(sous_max,maximum)):\n",
        "        final = queue\n",
        "        maximum = max(sous_max,maximum)\n",
        "      \n",
        "#  print('la valeur maximal est',stock)\n",
        "  print('la valeur maximal est',maximum)\n",
        "  final.reverse()\n",
        "  print('le chmin maximal est',final)\n"
      ],
      "metadata": {
        "id": "hpgHqDn3CKpt"
      },
      "execution_count": null,
      "outputs": []
    },
    {
      "cell_type": "code",
      "source": [
        "def max_num(num1, num2, num3, i,j, pivo):\n",
        "  if num1 > num2 and num1 > num3:\n",
        "    print('m-c(',i-1,',',j,')')\n",
        "    pivo.append(\"Left c(\"+str(i+1)+\",\"+str(j-1)+ \")\" + str(num1))\n",
        "  elif num2 > num1 and num2 > num3:\n",
        "    print('m-c(',i-1,',',j-1,')')\n",
        "    pivo.append(\"bottom c(\"+str(i+1)+\",\"+str(j)+ \")\"+ str(num2))\n",
        "  elif num3 > num1 and num3 > num2:\n",
        "    print('m-c(',i-1,',',j+1,')')\n",
        "    pivo.append(\"Right m-c(\"+str(i+1)+\",\"+str(j+1)+ \")\"+ str(num3))\n"
      ],
      "metadata": {
        "id": "xhaTEJLNDGpd"
      },
      "execution_count": null,
      "outputs": []
    },
    {
      "cell_type": "code",
      "source": [
        "\n",
        "with open('matrice.txt', 'r') as f:\n",
        "    N = int(f.readline())\n",
        "    mat = [[int(num) for num in line.split(' ')] for line in f]\n",
        "print(mat)\n",
        "print(N)\n",
        "\n",
        "MLP_DP(mat,N)\n"
      ],
      "metadata": {
        "colab": {
          "base_uri": "https://localhost:8080/"
        },
        "id": "7JmpYB-l3nKv",
        "outputId": "323276bb-3734-40e3-e044-b1fc64f93012"
      },
      "execution_count": null,
      "outputs": [
        {
          "output_type": "stream",
          "name": "stdout",
          "text": [
            "[[1, 4, 8], [4, 2, 8], [7, 4, 1]]\n",
            "3\n",
            "max 8\n",
            "node 4\n",
            "max 10\n",
            "node 2\n",
            "max 17\n",
            "node 7\n",
            "sm 17\n",
            "[[-1, -1, -1], [8, 10, -1], [17, -1, -1]]\n",
            "['C(0,0)']\n",
            "8\n",
            "['C(0,0)', 'C(0,1)']\n",
            "10\n",
            "max 16\n",
            "node 8\n",
            "max 20\n",
            "node 4\n",
            "sm 20\n",
            "[[-1, -1, -1], [8, 10, 16], [17, 20, -1]]\n",
            "['C(0,1)']\n",
            "10\n",
            "['C(0,1)', 'C(0,2)']\n",
            "16\n",
            "max 17\n",
            "node 1\n",
            "sm 17\n",
            "[[-1, -1, -1], [8, 10, 16], [17, 20, 17]]\n",
            "la valeur maximal est 20\n",
            "le chmin maximal est ['C(2,1)', 'C(1,2)', 'C(0,1)', 'C(0,0)']\n"
          ]
        }
      ]
    }
  ]
}